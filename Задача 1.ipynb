{
  "cells": [
    {
      "cell_type": "markdown",
      "metadata": {
        "id": "view-in-github",
        "colab_type": "text"
      },
      "source": [
        "<a href=\"https://colab.research.google.com/github/yakushinav/mgimo23/blob/main/%D0%97%D0%B0%D0%B4%D0%B0%D1%87%D0%B0%201.ipynb\" target=\"_parent\"><img src=\"https://colab.research.google.com/assets/colab-badge.svg\" alt=\"Open In Colab\"/></a>"
      ]
    },
    {
      "cell_type": "markdown",
      "metadata": {
        "id": "wrxPblZD82Es"
      },
      "source": [
        "# Основы программирования\n",
        "\n",
        "*Задание на зачет*\n"
      ]
    },
    {
      "cell_type": "markdown",
      "metadata": {
        "id": "LbTjgXTI82Ey"
      },
      "source": [
        "\n",
        "### Часть 1: файл csv"
      ]
    },
    {
      "cell_type": "markdown",
      "metadata": {
        "id": "BnBpD-KN82Ez"
      },
      "source": [
        "**1.** Загрузите csv-файл с таблицей по [ссылке](https://dpo.cs.msu.ru/wp-content/uploads/2022/11/fishing.csv) в переменную fishing_data. Описание данных см. [здесь](https://github.com/yakushinav/journ/blob/main/fishing.md)."
      ]
    },
    {
      "cell_type": "code",
      "execution_count": null,
      "metadata": {
        "id": "40fSJUxQ82E0",
        "colab": {
          "base_uri": "https://localhost:8080/"
        },
        "outputId": "00e8c8a4-0362-4610-92ed-d312aa739e01"
      },
      "outputs": [
        {
          "output_type": "stream",
          "name": "stdout",
          "text": [
            "   Unnamed: 0     mode    price   catch   pbeach    ppier    pboat  pcharter  \\\n",
            "0           1  charter  182.930  0.5391  157.930  157.930  157.930   182.930   \n",
            "1           2  charter   34.534  0.4671   15.114   15.114   10.534    34.534   \n",
            "2           3     boat   24.334  0.2413  161.874  161.874   24.334    59.334   \n",
            "3           4     pier   15.134  0.0789   15.134   15.134   55.930    84.930   \n",
            "4           5     boat   41.514  0.1082  106.930  106.930   41.514    71.014   \n",
            "\n",
            "   cbeach   cpier   cboat  ccharter     income  \n",
            "0  0.0678  0.0503  0.2601    0.5391  7083.3317  \n",
            "1  0.1049  0.0451  0.1574    0.4671  1249.9998  \n",
            "2  0.5333  0.4522  0.2413    1.0266  3749.9999  \n",
            "3  0.0678  0.0789  0.1643    0.5391  2083.3332  \n",
            "4  0.0678  0.0503  0.1082    0.3240  4583.3320  \n"
          ]
        }
      ],
      "source": [
        "### YOUR CODE HERE ###"
      ]
    },
    {
      "cell_type": "markdown",
      "metadata": {
        "id": "zHiQ10W382E1"
      },
      "source": [
        "**2.** Выведите описательные статистики для всех числовых (integer, float) переменных в датафрейме."
      ]
    },
    {
      "cell_type": "code",
      "execution_count": null,
      "metadata": {
        "id": "xww0C-0e82E2",
        "colab": {
          "base_uri": "https://localhost:8080/"
        },
        "outputId": "b5aa9555-aa01-4b4c-cd6b-7b8c66f9d9c0"
      },
      "outputs": [
        {
          "output_type": "stream",
          "name": "stdout",
          "text": [
            "count    1182.000000\n",
            "mean       52.081975\n",
            "std        53.829970\n",
            "min         1.290000\n",
            "25%        15.870000\n",
            "50%        37.896000\n",
            "75%        67.513000\n",
            "max       666.110000\n",
            "Name: price, dtype: float64\n"
          ]
        }
      ],
      "source": [
        "### YOUR CODE HERE ###"
      ]
    },
    {
      "cell_type": "markdown",
      "metadata": {
        "id": "axcZ6fS882E2"
      },
      "source": [
        "**3.** Выберите из таблицы только строки, которые соответствуют респондентам, которые выбрали рыбалку на берегу (`beach`)."
      ]
    },
    {
      "cell_type": "code",
      "execution_count": null,
      "metadata": {
        "id": "JvujsNy082E3"
      },
      "outputs": [],
      "source": [
        "### YOUR CODE HERE ###"
      ]
    },
    {
      "cell_type": "markdown",
      "metadata": {
        "id": "G2hxBini82E4"
      },
      "source": [
        "**4.** Выберите из таблицы строки, которые соответствуют респондентам, которые предпочитают рыбачить на лодке (`boat`) с доходом (`income`) ниже 3500. Сохраните результат в переменную `boat_data`."
      ]
    },
    {
      "cell_type": "code",
      "execution_count": null,
      "metadata": {
        "id": "QAmeexnU82E4"
      },
      "outputs": [],
      "source": [
        "### YOUR CODE HERE ###"
      ]
    },
    {
      "cell_type": "markdown",
      "metadata": {
        "id": "Hjupzfph82E5"
      },
      "source": [
        "**5.** Переименуйте столбец `catch` в `c_rate`."
      ]
    },
    {
      "cell_type": "code",
      "execution_count": null,
      "metadata": {
        "id": "OS4rUTxV82E7"
      },
      "outputs": [],
      "source": [
        "### YOUR CODE HERE ###"
      ]
    },
    {
      "cell_type": "markdown",
      "metadata": {
        "id": "7AAcH3Gy82E7"
      },
      "source": [
        "**6.** Добавьте в таблицу столбец `log_income`, содержащий натуральный логарифм доходов респондентов."
      ]
    },
    {
      "cell_type": "code",
      "execution_count": null,
      "metadata": {
        "id": "qHvesEP082E8"
      },
      "outputs": [],
      "source": [
        "### YOUR CODE HERE ###"
      ]
    },
    {
      "cell_type": "markdown",
      "metadata": {
        "id": "GjDqAUSX82E8"
      },
      "source": [
        "**7.** Сгруппируйте наблюдения в таблице по признаку тип рыбалки (`mode`) и выведите для каждого типа среднюю цену (`price`), которую респонденты готовы заплатить за рыбалку."
      ]
    },
    {
      "cell_type": "code",
      "execution_count": null,
      "metadata": {
        "id": "kGaB0inL82E8"
      },
      "outputs": [],
      "source": [
        "### YOUR CODE HERE ###"
      ]
    },
    {
      "cell_type": "markdown",
      "metadata": {
        "id": "aNlqu3Kn82E9"
      },
      "source": [
        "**8.** Выведите на экран первые 8 строк таблицы. А теперь последние 8."
      ]
    },
    {
      "cell_type": "code",
      "execution_count": null,
      "metadata": {
        "id": "ssNG9GHb82E9"
      },
      "outputs": [],
      "source": [
        "### YOUR CODE HERE ###"
      ]
    },
    {
      "cell_type": "markdown",
      "metadata": {
        "id": "J7lVYGmS82E9"
      },
      "source": [
        "**9.** Сохраните изменённый датафрейм в csv-файл."
      ]
    },
    {
      "cell_type": "code",
      "execution_count": null,
      "metadata": {
        "id": "_HQz2KM782E9"
      },
      "outputs": [],
      "source": [
        "### YOUR CODE HERE ###"
      ]
    },
    {
      "cell_type": "markdown",
      "metadata": {
        "id": "vcKxmiC182E-"
      },
      "source": [
        "### Часть 2: Анализ данных о странах мира\n",
        "\n",
        "**Файл для работы**\n",
        "\n",
        "`polit.xlsx` ([ссылка](https://dpo.cs.msu.ru/wp-content/uploads/2022/11/polit.xlsx) на файл)\n",
        "\n",
        "**Описание файла**\n",
        "\n",
        "сокращенная версия файла `PetersMcGuireData.xlsx`, взятого [отсюда](http://jmcguire.faculty.wesleyan.edu/welcome/data/#20LActries) (страница James W.McGuire, Data used in “Authoritarianism in the Middle East”).\n",
        "\n",
        "**Переменные:**\n",
        "\n",
        "* `ctry` – country;\n",
        "* `fh09` – Freedom House index (ranging from 1 (most) to 7 (fewest) political rights and civil liberties), 2009;\n",
        "* `polity09` – Polity2 score (ranging from -10 to +10, latter most democratic), 2009;\n",
        "* `gini` – Gini index of income inequality, 2000-2010;\n",
        "* `fparl08` – female share of seats in parliament (%), 2008;\n",
        "* `mena` – Middle East and North Africa (1 - yes, 0 - no);\n",
        "* `lati` – Latin America (1 - yes, 0 - no);\n",
        "* `cari` – Caribbean, former British, French, Dutch colony;\n",
        "* `east` – East Asia;\n",
        "* `sovi` – Former Soviet Bloc;\n",
        "* `afri` – Africa;\n",
        "* `corr0509` – Control of Corruption, average 2005-2009 (expert rating)."
      ]
    },
    {
      "cell_type": "markdown",
      "metadata": {
        "id": "BW04aN4i82E-"
      },
      "source": [
        "**1.** Загрузите таблицу из файла `polit.xlsx` и сохраните ее в переменную `df`."
      ]
    },
    {
      "cell_type": "code",
      "execution_count": null,
      "metadata": {
        "id": "HCA3QUEZ82E_"
      },
      "outputs": [],
      "source": [
        "### YOUR CODE HERE ###\n",
        "### YOUR CODE HERE ###\n",
        "import pandas as pd\n",
        "\n",
        "df=pd.read_excel(\"https://dpo.cs.msu.ru/wp-content/uploads/2022/11/polit.xlsx\", index_col=0)"
      ]
    },
    {
      "cell_type": "markdown",
      "metadata": {
        "id": "7VNHzHL-82E_"
      },
      "source": [
        "**2.** Выведите общую информацию по таблице: число строк и столбцов, типы данных в таблице. Есть ли в таблице пропущенные значения?"
      ]
    },
    {
      "cell_type": "code",
      "execution_count": null,
      "metadata": {
        "id": "hOoE7_dT82E_"
      },
      "outputs": [],
      "source": [
        "### YOUR CODE HERE ###"
      ]
    },
    {
      "cell_type": "markdown",
      "metadata": {
        "id": "FcmFLfD382E_"
      },
      "source": [
        "**3.** Если в таблице есть строки с пропущенными значениями, удалите их. Сохраните изменения в `df`."
      ]
    },
    {
      "cell_type": "code",
      "execution_count": null,
      "metadata": {
        "id": "EOZrCerq82FA"
      },
      "outputs": [],
      "source": [
        "### YOUR CODE HERE ###"
      ]
    },
    {
      "cell_type": "markdown",
      "metadata": {
        "id": "CkAzqRYs82FA"
      },
      "source": [
        "**4.** Выведите на экран описательные статистики по всем количественным переменным в таблице. Выберите какой-нибудь интересующий вас столбец и проинтерпретируйте описательные статистики по нему (т.е. опишите «обычными» словами, что значат значения типа `min`, `std`, `50%` и так далее)."
      ]
    },
    {
      "cell_type": "code",
      "execution_count": null,
      "metadata": {
        "id": "gtGWtrD482FA"
      },
      "outputs": [],
      "source": [
        "### YOUR CODE HERE ###"
      ]
    },
    {
      "cell_type": "markdown",
      "metadata": {
        "id": "qVuTu1Fn82FA"
      },
      "source": [
        "**5.** Выберите в таблице строки, которые соответствуют странам со значениями Freedom House (`fh09`) выше 5. Сохраните их в переменную `not_free`."
      ]
    },
    {
      "cell_type": "code",
      "execution_count": null,
      "metadata": {
        "id": "NkTem_n682FA"
      },
      "outputs": [],
      "source": [
        "### YOUR CODE HERE ###"
      ]
    },
    {
      "cell_type": "markdown",
      "metadata": {
        "id": "zlOHJ7i882FA"
      },
      "source": [
        "**6.** Выберите в таблице строки, которые соответствуют странам Африки (`afri`) с процентом женщин в парламенте выше 30%."
      ]
    },
    {
      "cell_type": "code",
      "execution_count": null,
      "metadata": {
        "id": "NzE0aXRw82FB"
      },
      "outputs": [],
      "source": [
        "### YOUR CODE HERE ###"
      ]
    },
    {
      "cell_type": "markdown",
      "metadata": {
        "id": "LlO7GzdI82FB"
      },
      "source": [
        "**7.** Выберите в таблице строки, которые соответствуют странам Африки или Латинской Америки (`afri` и `lati`) со значением `polity09` больше или равным 8."
      ]
    },
    {
      "cell_type": "code",
      "execution_count": null,
      "metadata": {
        "id": "803EB71F82FB"
      },
      "outputs": [],
      "source": [
        "### YOUR CODE HERE ###"
      ]
    },
    {
      "cell_type": "markdown",
      "metadata": {
        "id": "BzG11oUb82FB"
      },
      "source": [
        "**8.** Отсортируйте строки в таблице в соответствии со значениями столбца со средними значениями индекса Control of Corruption (`corr0509`) по убыванию и выведите: первые 10 строк; последние 10 строк. Используйте метод `.sort_values()`.\n",
        "\n",
        "*Пример:*\n",
        "\n",
        "    df.sort_values('column_name', ascending = False) # ascend - возрастать"
      ]
    },
    {
      "cell_type": "code",
      "execution_count": null,
      "metadata": {
        "id": "adnYJD6q82FB"
      },
      "outputs": [],
      "source": [
        "### YOUR CODE HERE ###"
      ]
    },
    {
      "cell_type": "markdown",
      "metadata": {
        "id": "Irm2w-ch82FB"
      },
      "source": [
        "**9.** Добавьте в `df` столбец corr_round, в котором будут храниться округленные до 2 знака после запятой значения индекса Control of Corruption (`corr0509`)."
      ]
    },
    {
      "cell_type": "code",
      "execution_count": null,
      "metadata": {
        "id": "ahDJ07be82FC"
      },
      "outputs": [],
      "source": [
        "### YOUR CODE HERE ###"
      ]
    },
    {
      "cell_type": "markdown",
      "metadata": {
        "id": "DSPJKtNG82FC"
      },
      "source": [
        "**10.** Добавьте в `df` столбец `fh_status`, в котором будут храниться типы стран в зависимости от значения индекса Freedom House (значения free, partly free, not free). Соответствие значений `fh09` с типами стран см. [здесь](https://gtmarket.ru/news/2016/01/28/7290)."
      ]
    },
    {
      "cell_type": "code",
      "source": [
        "### YOUR CODE HERE ###\n",
        "df[\"fhi\"]=df[\"fh09\"]*100//7\n",
        "df[\"fh_status\"]=\"\""
      ],
      "metadata": {
        "id": "C4kF4wUJ3okD"
      },
      "execution_count": null,
      "outputs": []
    },
    {
      "cell_type": "code",
      "execution_count": null,
      "metadata": {
        "id": "GjB9rzR-82FC",
        "colab": {
          "base_uri": "https://localhost:8080/"
        },
        "outputId": "cefcc97c-0bca-4387-eda9-b7357aa95cbf"
      },
      "outputs": [
        {
          "output_type": "stream",
          "name": "stdout",
          "text": [
            "                fh09  polity09  gini  fparl08  mena  lati  cari  east  sovi  \\\n",
            "ctry                                                                          \n",
            "Afghanistan      6.0       0.0   NaN    25.87     0     0     0     0     0   \n",
            "Albania          3.0       9.0  33.0     7.14     0     0     0     0     1   \n",
            "Algeria          5.5       2.0  35.3     6.48     1     0     0     0     0   \n",
            "American Samoa   NaN       NaN   NaN      NaN     0     0     0     0     0   \n",
            "Andorra          1.0       NaN   NaN    25.00     0     0     0     0     0   \n",
            "\n",
            "                afri  corr0509   fhi    fh_status  \n",
            "ctry                                               \n",
            "Afghanistan        0 -1.550910  85.0         free  \n",
            "Albania            0 -0.580513  42.0  partly free  \n",
            "Algeria            0 -0.434654  78.0         free  \n",
            "American Samoa     0  0.442991   NaN               \n",
            "Andorra            0  1.307767  14.0     not free  \n"
          ]
        }
      ],
      "source": [
        "df.loc[df[\"fhi\"]>=71, \"fh_status\"]=\"free\"\n",
        "df.loc[(df[\"fhi\"]>38) & (df[\"fhi\"]<=70), \"fh_status\"]=\"partly free\"\n",
        "df.loc[df[\"fhi\"]<38, \"fh_status\"]=\"not free\"\n",
        "print(df.head())"
      ]
    },
    {
      "cell_type": "markdown",
      "source": [],
      "metadata": {
        "id": "qRwxf8npj1QK"
      }
    },
    {
      "cell_type": "markdown",
      "metadata": {
        "id": "-f1-WsZf82FC"
      },
      "source": [
        "**11.** Сгруппируйте строки в таблице в соответствии со значениями столбца `fh_status`, полученного в предыдущей части и выведите минимальное, среднее и максимальное значение показателя `gini` (индекс Джини) по каждой группе."
      ]
    },
    {
      "cell_type": "code",
      "execution_count": null,
      "metadata": {
        "id": "QBEFtIkl82FC"
      },
      "outputs": [],
      "source": [
        "### YOUR CODE HERE ###"
      ]
    },
    {
      "cell_type": "markdown",
      "metadata": {
        "id": "dzBKjHfU82FD"
      },
      "source": [
        "**12.** Сгруппируйте строки в таблице в соответствии со значениями столбца `fh_status` и запишите строки, относящиеся к разным группам, в отдельные csv-файлы.\n",
        "\n",
        "*Подсказка:* используйте цикл for и перебирайте в нем пары название группы-датафрейм. Попробуйте прогнать следующий код и посмотреть, что получится:\n",
        "\n",
        "    for name, table in df.groupby('fh_status'):\n",
        "        print(name, table.head(2))\n",
        "\n",
        "Сочетая функционал `pandas` и `matplotlib`, постройте диаграмму рассеяния (scatterplot, функция `scatter()`) для пары показателей `fh09` и `corr0509`. Поменяйте тип точек (маркер) и цвет точек. Добавьте заголовок к графику."
      ]
    },
    {
      "cell_type": "code",
      "execution_count": null,
      "metadata": {
        "id": "le78IEJT82FD"
      },
      "outputs": [],
      "source": [
        "### YOUR CODE HERE ###"
      ]
    }
  ],
  "metadata": {
    "kernelspec": {
      "display_name": "Python 3",
      "language": "python",
      "name": "python3"
    },
    "language_info": {
      "codemirror_mode": {
        "name": "ipython",
        "version": 3
      },
      "file_extension": ".py",
      "mimetype": "text/x-python",
      "name": "python",
      "nbconvert_exporter": "python",
      "pygments_lexer": "ipython3",
      "version": "3.7.1"
    },
    "colab": {
      "provenance": [],
      "include_colab_link": true
    }
  },
  "nbformat": 4,
  "nbformat_minor": 0
}